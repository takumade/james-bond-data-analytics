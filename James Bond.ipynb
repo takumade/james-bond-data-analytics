{
  "metadata": {
    "kernelspec": {
      "name": "python",
      "display_name": "Python (Pyodide)",
      "language": "python"
    },
    "language_info": {
      "codemirror_mode": {
        "name": "python",
        "version": 3
      },
      "file_extension": ".py",
      "mimetype": "text/x-python",
      "name": "python",
      "nbconvert_exporter": "python",
      "pygments_lexer": "ipython3",
      "version": "3.8"
    }
  },
  "nbformat_minor": 4,
  "nbformat": 4,
  "cells": [
    {
      "cell_type": "markdown",
      "source": "# James Bond Movie Data",
      "metadata": {}
    },
    {
      "cell_type": "markdown",
      "source": "![purple-divider](https://user-images.githubusercontent.com/7065401/52071927-c1cd7100-2562-11e9-908a-dde91ba14e59.png)\n\n## Hands on! ",
      "metadata": {}
    },
    {
      "cell_type": "code",
      "source": "import numpy as np\nimport pandas as pd\nimport matplotlib.pyplot as plt\n\n%matplotlib inline",
      "metadata": {
        "trusted": true
      },
      "outputs": [
        {
          "name": "stderr",
          "output_type": "stream",
          "text": "Matplotlib is building the font cache; this may take a moment.\n"
        }
      ],
      "execution_count": 1
    },
    {
      "cell_type": "markdown",
      "source": "Pandas can easily read data stored in different file formats like CSV, JSON, XML or even Excel. Parsing always involves specifying the correct structure, encoding and other details. The `read_csv` method reads CSV files and accepts many parameters.",
      "metadata": {}
    },
    {
      "cell_type": "code",
      "source": "# james_bond_data = pd.read_excel(\"james_bond_data.xlsx\").convert_dtypes()\n# james_bond_data = pd.read_parquet(\"james_bond_data.parquet\").convert_dtypes()\n\n# james_bond_tables = pd.read_html(\n#       \"https://en.wikipedia.org/wiki/List_of_James_Bond_novels_and_short_stories\")\n# james_bond_data = james_bond_tables[1].convert_dtypes()\n\n\n\njames_bond_data = pd.read_csv(\"./data/james_bond_data.csv\").convert_dtypes()",
      "metadata": {
        "trusted": true
      },
      "outputs": [],
      "execution_count": 4
    },
    {
      "cell_type": "code",
      "source": "james_bond_data.head()",
      "metadata": {
        "trusted": true
      },
      "outputs": [
        {
          "execution_count": 5,
          "output_type": "execute_result",
          "data": {
            "text/plain": "           Release                  Movie          Bond  Bond_Car_MFG  \\\n0       June, 1962                 Dr. No  Sean Connery       Sunbeam   \n1     August, 1963  From Russia with Love  Sean Connery       Bentley   \n2        May, 1964             Goldfinger  Sean Connery  Aston Martin   \n3  September, 1965            Thunderball  Sean Connery  Aston Martin   \n4   November, 1967    You Only Live Twice  Sean Connery        Toyota   \n\n           US_Gross        World_Gross Budget ($ 000s) Film_Length  \\\n0   $16,067,035.00     $59,567,035.00       $1,000.00     110 mins   \n1   $24,800,000.00     $78,900,000.00       $2,000.00     115 mins   \n2   $51,100,000.00    $124,900,000.00       $3,000.00     110 mins   \n3   $63,600,000.00    $141,200,000.00       $9,000.00     130 mins   \n4   $43,100,000.00    $111,600,000.00       $9,500.00     117 mins   \n\n   Avg_User_IMDB  Avg_User_Rtn_Tom  Martinis  Kills_Bond  \n0            7.3               7.7         2           4  \n1            7.5               8.0         0          11  \n2            7.8               8.4         1           9  \n3            7.0               6.8         0          20  \n4            6.9               6.3         1          21  ",
            "text/html": "<div>\n<style scoped>\n    .dataframe tbody tr th:only-of-type {\n        vertical-align: middle;\n    }\n\n    .dataframe tbody tr th {\n        vertical-align: top;\n    }\n\n    .dataframe thead th {\n        text-align: right;\n    }\n</style>\n<table border=\"1\" class=\"dataframe\">\n  <thead>\n    <tr style=\"text-align: right;\">\n      <th></th>\n      <th>Release</th>\n      <th>Movie</th>\n      <th>Bond</th>\n      <th>Bond_Car_MFG</th>\n      <th>US_Gross</th>\n      <th>World_Gross</th>\n      <th>Budget ($ 000s)</th>\n      <th>Film_Length</th>\n      <th>Avg_User_IMDB</th>\n      <th>Avg_User_Rtn_Tom</th>\n      <th>Martinis</th>\n      <th>Kills_Bond</th>\n    </tr>\n  </thead>\n  <tbody>\n    <tr>\n      <th>0</th>\n      <td>June, 1962</td>\n      <td>Dr. No</td>\n      <td>Sean Connery</td>\n      <td>Sunbeam</td>\n      <td>$16,067,035.00</td>\n      <td>$59,567,035.00</td>\n      <td>$1,000.00</td>\n      <td>110 mins</td>\n      <td>7.3</td>\n      <td>7.7</td>\n      <td>2</td>\n      <td>4</td>\n    </tr>\n    <tr>\n      <th>1</th>\n      <td>August, 1963</td>\n      <td>From Russia with Love</td>\n      <td>Sean Connery</td>\n      <td>Bentley</td>\n      <td>$24,800,000.00</td>\n      <td>$78,900,000.00</td>\n      <td>$2,000.00</td>\n      <td>115 mins</td>\n      <td>7.5</td>\n      <td>8.0</td>\n      <td>0</td>\n      <td>11</td>\n    </tr>\n    <tr>\n      <th>2</th>\n      <td>May, 1964</td>\n      <td>Goldfinger</td>\n      <td>Sean Connery</td>\n      <td>Aston Martin</td>\n      <td>$51,100,000.00</td>\n      <td>$124,900,000.00</td>\n      <td>$3,000.00</td>\n      <td>110 mins</td>\n      <td>7.8</td>\n      <td>8.4</td>\n      <td>1</td>\n      <td>9</td>\n    </tr>\n    <tr>\n      <th>3</th>\n      <td>September, 1965</td>\n      <td>Thunderball</td>\n      <td>Sean Connery</td>\n      <td>Aston Martin</td>\n      <td>$63,600,000.00</td>\n      <td>$141,200,000.00</td>\n      <td>$9,000.00</td>\n      <td>130 mins</td>\n      <td>7.0</td>\n      <td>6.8</td>\n      <td>0</td>\n      <td>20</td>\n    </tr>\n    <tr>\n      <th>4</th>\n      <td>November, 1967</td>\n      <td>You Only Live Twice</td>\n      <td>Sean Connery</td>\n      <td>Toyota</td>\n      <td>$43,100,000.00</td>\n      <td>$111,600,000.00</td>\n      <td>$9,500.00</td>\n      <td>117 mins</td>\n      <td>6.9</td>\n      <td>6.3</td>\n      <td>1</td>\n      <td>21</td>\n    </tr>\n  </tbody>\n</table>\n</div>"
          },
          "metadata": {}
        }
      ],
      "execution_count": 5
    },
    {
      "cell_type": "markdown",
      "source": "## Creating meaningful columns",
      "metadata": {}
    },
    {
      "cell_type": "code",
      "source": "new_column_names = {\n  \"Release\": \"release_date\",\n  \"Movie\": \"movie_title\",\n  \"Bond\": \"bond_actor\",\n  \"Bond_Car_MFG\": \"car_manufacturer\",\n  \"US_Gross\": \"income_usa\",\n  \"World_Gross\": \"income_world\",\n  \"Budget ($ 000s)\": \"movie_budget\",\n \"Film_Length\": \"film_length\",\n   \"Avg_User_IMDB\": \"imdb\",\n \"Avg_User_Rtn_Tom\": \"rotten_tomatoes\",\n  \"Martinis\": \"martinis_consumed\",\n  \"Kills_Bond\": \"bond_kills\",\n }\n\ndata = james_bond_data.rename(columns=new_column_names)",
      "metadata": {
        "trusted": true
      },
      "outputs": [],
      "execution_count": 6
    },
    {
      "cell_type": "code",
      "source": "data.columns",
      "metadata": {
        "trusted": true,
        "scrolled": true
      },
      "outputs": [
        {
          "execution_count": 7,
          "output_type": "execute_result",
          "data": {
            "text/plain": "Index(['release_date', 'movie_title', 'bond_actor', 'car_manufacturer',\n       'income_usa', 'income_world', 'movie_budget', 'film_length', 'imdb',\n       'rotten_tomatoes', 'martinis_consumed', 'bond_kills'],\n      dtype='object')"
          },
          "metadata": {}
        }
      ],
      "execution_count": 7
    },
    {
      "cell_type": "markdown",
      "source": "## Dealing with missing data\n\nUse .info() method to detect missing data with your data frame",
      "metadata": {}
    },
    {
      "cell_type": "code",
      "source": "data.info()",
      "metadata": {
        "trusted": true
      },
      "outputs": [
        {
          "name": "stdout",
          "output_type": "stream",
          "text": "<class 'pandas.core.frame.DataFrame'>\nRangeIndex: 27 entries, 0 to 26\nData columns (total 12 columns):\n #   Column             Non-Null Count  Dtype  \n---  ------             --------------  -----  \n 0   release_date       27 non-null     string \n 1   movie_title        27 non-null     string \n 2   bond_actor         27 non-null     string \n 3   car_manufacturer   27 non-null     string \n 4   income_usa         27 non-null     string \n 5   income_world       27 non-null     string \n 6   movie_budget       27 non-null     string \n 7   film_length        27 non-null     string \n 8   imdb               26 non-null     Float64\n 9   rotten_tomatoes    26 non-null     Float64\n 10  martinis_consumed  27 non-null     Int64  \n 11  bond_kills         27 non-null     Int64  \ndtypes: Float64(2), Int64(2), string(8)\nmemory usage: 1.9 KB\n"
        }
      ],
      "execution_count": 9
    },
    {
      "cell_type": "markdown",
      "source": "Get columns with missing data",
      "metadata": {}
    },
    {
      "cell_type": "code",
      "source": "data.loc[data.isna().any(axis=\"columns\")]",
      "metadata": {
        "trusted": true
      },
      "outputs": [
        {
          "execution_count": 10,
          "output_type": "execute_result",
          "data": {
            "text/plain": "   release_date           movie_title   bond_actor car_manufacturer  \\\n10  April, 1977  The Spy Who Loved Me  Roger Moore            Lotus   \n\n          income_usa       income_world  movie_budget film_length  imdb  \\\n10   $46,800,000.00    $185,400,000.00    $14,000.00     125 mins  <NA>   \n\n    rotten_tomatoes  martinis_consumed  bond_kills  \n10             <NA>                  1          31  ",
            "text/html": "<div>\n<style scoped>\n    .dataframe tbody tr th:only-of-type {\n        vertical-align: middle;\n    }\n\n    .dataframe tbody tr th {\n        vertical-align: top;\n    }\n\n    .dataframe thead th {\n        text-align: right;\n    }\n</style>\n<table border=\"1\" class=\"dataframe\">\n  <thead>\n    <tr style=\"text-align: right;\">\n      <th></th>\n      <th>release_date</th>\n      <th>movie_title</th>\n      <th>bond_actor</th>\n      <th>car_manufacturer</th>\n      <th>income_usa</th>\n      <th>income_world</th>\n      <th>movie_budget</th>\n      <th>film_length</th>\n      <th>imdb</th>\n      <th>rotten_tomatoes</th>\n      <th>martinis_consumed</th>\n      <th>bond_kills</th>\n    </tr>\n  </thead>\n  <tbody>\n    <tr>\n      <th>10</th>\n      <td>April, 1977</td>\n      <td>The Spy Who Loved Me</td>\n      <td>Roger Moore</td>\n      <td>Lotus</td>\n      <td>$46,800,000.00</td>\n      <td>$185,400,000.00</td>\n      <td>$14,000.00</td>\n      <td>125 mins</td>\n      <td>&lt;NA&gt;</td>\n      <td>&lt;NA&gt;</td>\n      <td>1</td>\n      <td>31</td>\n    </tr>\n  </tbody>\n</table>\n</div>"
          },
          "metadata": {}
        }
      ],
      "execution_count": 10
    },
    {
      "cell_type": "code",
      "source": "data = james_bond_data.rename(columns=new_column_names).combine_first(\n pd.DataFrame({\"imdb\": {10: 7.1}, \"rotten_tomatoes\": {10: 6.8}})\n)",
      "metadata": {
        "trusted": true
      },
      "outputs": [],
      "execution_count": 12
    },
    {
      "cell_type": "code",
      "source": "pd.DataFrame({\"imdb\": {10: 7.1}, \"rotten_tomatoes\": {10: 6.8}})",
      "metadata": {
        "trusted": true
      },
      "outputs": [
        {
          "execution_count": 13,
          "output_type": "execute_result",
          "data": {
            "text/plain": "    imdb  rotten_tomatoes\n10   7.1              6.8",
            "text/html": "<div>\n<style scoped>\n    .dataframe tbody tr th:only-of-type {\n        vertical-align: middle;\n    }\n\n    .dataframe tbody tr th {\n        vertical-align: top;\n    }\n\n    .dataframe thead th {\n        text-align: right;\n    }\n</style>\n<table border=\"1\" class=\"dataframe\">\n  <thead>\n    <tr style=\"text-align: right;\">\n      <th></th>\n      <th>imdb</th>\n      <th>rotten_tomatoes</th>\n    </tr>\n  </thead>\n  <tbody>\n    <tr>\n      <th>10</th>\n      <td>7.1</td>\n      <td>6.8</td>\n    </tr>\n  </tbody>\n</table>\n</div>"
          },
          "metadata": {}
        }
      ],
      "execution_count": 13
    },
    {
      "cell_type": "markdown",
      "source": "## Handling financial columns\n\nWe want to remove $ symbols so the figures are treated as floats",
      "metadata": {}
    },
    {
      "cell_type": "code",
      "source": "data[[\"income_usa\", \"income_world\", \"movie_budget\", \"film_length\"]].head()",
      "metadata": {
        "trusted": true
      },
      "outputs": [
        {
          "execution_count": 14,
          "output_type": "execute_result",
          "data": {
            "text/plain": "         income_usa       income_world movie_budget film_length\n0   $16,067,035.00     $59,567,035.00    $1,000.00     110 mins\n1   $24,800,000.00     $78,900,000.00    $2,000.00     115 mins\n2   $51,100,000.00    $124,900,000.00    $3,000.00     110 mins\n3   $63,600,000.00    $141,200,000.00    $9,000.00     130 mins\n4   $43,100,000.00    $111,600,000.00    $9,500.00     117 mins",
            "text/html": "<div>\n<style scoped>\n    .dataframe tbody tr th:only-of-type {\n        vertical-align: middle;\n    }\n\n    .dataframe tbody tr th {\n        vertical-align: top;\n    }\n\n    .dataframe thead th {\n        text-align: right;\n    }\n</style>\n<table border=\"1\" class=\"dataframe\">\n  <thead>\n    <tr style=\"text-align: right;\">\n      <th></th>\n      <th>income_usa</th>\n      <th>income_world</th>\n      <th>movie_budget</th>\n      <th>film_length</th>\n    </tr>\n  </thead>\n  <tbody>\n    <tr>\n      <th>0</th>\n      <td>$16,067,035.00</td>\n      <td>$59,567,035.00</td>\n      <td>$1,000.00</td>\n      <td>110 mins</td>\n    </tr>\n    <tr>\n      <th>1</th>\n      <td>$24,800,000.00</td>\n      <td>$78,900,000.00</td>\n      <td>$2,000.00</td>\n      <td>115 mins</td>\n    </tr>\n    <tr>\n      <th>2</th>\n      <td>$51,100,000.00</td>\n      <td>$124,900,000.00</td>\n      <td>$3,000.00</td>\n      <td>110 mins</td>\n    </tr>\n    <tr>\n      <th>3</th>\n      <td>$63,600,000.00</td>\n      <td>$141,200,000.00</td>\n      <td>$9,000.00</td>\n      <td>130 mins</td>\n    </tr>\n    <tr>\n      <th>4</th>\n      <td>$43,100,000.00</td>\n      <td>$111,600,000.00</td>\n      <td>$9,500.00</td>\n      <td>117 mins</td>\n    </tr>\n  </tbody>\n</table>\n</div>"
          },
          "metadata": {}
        }
      ],
      "execution_count": 14
    },
    {
      "cell_type": "markdown",
      "source": "Replace columns in in income_usa",
      "metadata": {}
    },
    {
      "cell_type": "code",
      "source": " data = (\n  james_bond_data.rename(columns=new_column_names)\n.combine_first(\n    pd.DataFrame({\"imdb\": {10: 7.1}, \"rotten_tomatoes\": {10: 6.8}})\n )\n  .assign(\n   income_usa=lambda data: (\n       data[\"income_usa\"]\n      .replace(\"[$,]\", \"\", regex=True)\n      .astype(\"Float64\")\n   ),\n  )\n )",
      "metadata": {
        "trusted": true
      },
      "outputs": [],
      "execution_count": 16
    },
    {
      "cell_type": "code",
      "source": "data.head()",
      "metadata": {
        "trusted": true
      },
      "outputs": [
        {
          "execution_count": 17,
          "output_type": "execute_result",
          "data": {
            "text/plain": "     bond_actor  bond_kills car_manufacturer film_length  imdb  income_usa  \\\n0  Sean Connery           4          Sunbeam    110 mins   7.3  16067035.0   \n1  Sean Connery          11          Bentley    115 mins   7.5  24800000.0   \n2  Sean Connery           9     Aston Martin    110 mins   7.8  51100000.0   \n3  Sean Connery          20     Aston Martin    130 mins   7.0  63600000.0   \n4  Sean Connery          21           Toyota    117 mins   6.9  43100000.0   \n\n        income_world  martinis_consumed movie_budget            movie_title  \\\n0    $59,567,035.00                   2   $1,000.00                  Dr. No   \n1    $78,900,000.00                   0   $2,000.00   From Russia with Love   \n2   $124,900,000.00                   1   $3,000.00              Goldfinger   \n3   $141,200,000.00                   0   $9,000.00             Thunderball   \n4   $111,600,000.00                   1   $9,500.00     You Only Live Twice   \n\n      release_date  rotten_tomatoes  \n0       June, 1962              7.7  \n1     August, 1963              8.0  \n2        May, 1964              8.4  \n3  September, 1965              6.8  \n4   November, 1967              6.3  ",
            "text/html": "<div>\n<style scoped>\n    .dataframe tbody tr th:only-of-type {\n        vertical-align: middle;\n    }\n\n    .dataframe tbody tr th {\n        vertical-align: top;\n    }\n\n    .dataframe thead th {\n        text-align: right;\n    }\n</style>\n<table border=\"1\" class=\"dataframe\">\n  <thead>\n    <tr style=\"text-align: right;\">\n      <th></th>\n      <th>bond_actor</th>\n      <th>bond_kills</th>\n      <th>car_manufacturer</th>\n      <th>film_length</th>\n      <th>imdb</th>\n      <th>income_usa</th>\n      <th>income_world</th>\n      <th>martinis_consumed</th>\n      <th>movie_budget</th>\n      <th>movie_title</th>\n      <th>release_date</th>\n      <th>rotten_tomatoes</th>\n    </tr>\n  </thead>\n  <tbody>\n    <tr>\n      <th>0</th>\n      <td>Sean Connery</td>\n      <td>4</td>\n      <td>Sunbeam</td>\n      <td>110 mins</td>\n      <td>7.3</td>\n      <td>16067035.0</td>\n      <td>$59,567,035.00</td>\n      <td>2</td>\n      <td>$1,000.00</td>\n      <td>Dr. No</td>\n      <td>June, 1962</td>\n      <td>7.7</td>\n    </tr>\n    <tr>\n      <th>1</th>\n      <td>Sean Connery</td>\n      <td>11</td>\n      <td>Bentley</td>\n      <td>115 mins</td>\n      <td>7.5</td>\n      <td>24800000.0</td>\n      <td>$78,900,000.00</td>\n      <td>0</td>\n      <td>$2,000.00</td>\n      <td>From Russia with Love</td>\n      <td>August, 1963</td>\n      <td>8.0</td>\n    </tr>\n    <tr>\n      <th>2</th>\n      <td>Sean Connery</td>\n      <td>9</td>\n      <td>Aston Martin</td>\n      <td>110 mins</td>\n      <td>7.8</td>\n      <td>51100000.0</td>\n      <td>$124,900,000.00</td>\n      <td>1</td>\n      <td>$3,000.00</td>\n      <td>Goldfinger</td>\n      <td>May, 1964</td>\n      <td>8.4</td>\n    </tr>\n    <tr>\n      <th>3</th>\n      <td>Sean Connery</td>\n      <td>20</td>\n      <td>Aston Martin</td>\n      <td>130 mins</td>\n      <td>7.0</td>\n      <td>63600000.0</td>\n      <td>$141,200,000.00</td>\n      <td>0</td>\n      <td>$9,000.00</td>\n      <td>Thunderball</td>\n      <td>September, 1965</td>\n      <td>6.8</td>\n    </tr>\n    <tr>\n      <th>4</th>\n      <td>Sean Connery</td>\n      <td>21</td>\n      <td>Toyota</td>\n      <td>117 mins</td>\n      <td>6.9</td>\n      <td>43100000.0</td>\n      <td>$111,600,000.00</td>\n      <td>1</td>\n      <td>$9,500.00</td>\n      <td>You Only Live Twice</td>\n      <td>November, 1967</td>\n      <td>6.3</td>\n    </tr>\n  </tbody>\n</table>\n</div>"
          },
          "metadata": {}
        }
      ],
      "execution_count": 17
    },
    {
      "cell_type": "code",
      "source": "data = (\n    james_bond_data.rename(columns=new_column_names)\n    .combine_first(\n        pd.DataFrame({\"imdb\": {10: 7.1}, \"rotten_tomatoes\": {10: 6.8}})\n    )\n    .assign(\n        income_usa=lambda data: (\n            data[\"income_usa\"]\n            .replace(\"[$,]\", \"\", regex=True)\n            .astype(\"Float64\")\n        ),\n        income_world=lambda data: (\n            data[\"income_world\"]\n            .replace(\"[$,]\", \"\", regex=True)\n            .astype(\"Float64\")\n        ),\n        movie_budget=lambda data: (\n            data[\"movie_budget\"]\n            .replace(\"[$,]\", \"\", regex=True)\n            .astype(\"Float64\")\n        ),\n    )\n)",
      "metadata": {
        "scrolled": true,
        "trusted": true
      },
      "outputs": [],
      "execution_count": 19
    },
    {
      "cell_type": "code",
      "source": "data.head()",
      "metadata": {
        "trusted": true
      },
      "outputs": [
        {
          "execution_count": 20,
          "output_type": "execute_result",
          "data": {
            "text/plain": "     bond_actor  bond_kills car_manufacturer film_length  imdb  income_usa  \\\n0  Sean Connery           4          Sunbeam    110 mins   7.3  16067035.0   \n1  Sean Connery          11          Bentley    115 mins   7.5  24800000.0   \n2  Sean Connery           9     Aston Martin    110 mins   7.8  51100000.0   \n3  Sean Connery          20     Aston Martin    130 mins   7.0  63600000.0   \n4  Sean Connery          21           Toyota    117 mins   6.9  43100000.0   \n\n   income_world  martinis_consumed  movie_budget            movie_title  \\\n0    59567035.0                  2        1000.0                 Dr. No   \n1    78900000.0                  0        2000.0  From Russia with Love   \n2   124900000.0                  1        3000.0             Goldfinger   \n3   141200000.0                  0        9000.0            Thunderball   \n4   111600000.0                  1        9500.0    You Only Live Twice   \n\n      release_date  rotten_tomatoes  \n0       June, 1962              7.7  \n1     August, 1963              8.0  \n2        May, 1964              8.4  \n3  September, 1965              6.8  \n4   November, 1967              6.3  ",
            "text/html": "<div>\n<style scoped>\n    .dataframe tbody tr th:only-of-type {\n        vertical-align: middle;\n    }\n\n    .dataframe tbody tr th {\n        vertical-align: top;\n    }\n\n    .dataframe thead th {\n        text-align: right;\n    }\n</style>\n<table border=\"1\" class=\"dataframe\">\n  <thead>\n    <tr style=\"text-align: right;\">\n      <th></th>\n      <th>bond_actor</th>\n      <th>bond_kills</th>\n      <th>car_manufacturer</th>\n      <th>film_length</th>\n      <th>imdb</th>\n      <th>income_usa</th>\n      <th>income_world</th>\n      <th>martinis_consumed</th>\n      <th>movie_budget</th>\n      <th>movie_title</th>\n      <th>release_date</th>\n      <th>rotten_tomatoes</th>\n    </tr>\n  </thead>\n  <tbody>\n    <tr>\n      <th>0</th>\n      <td>Sean Connery</td>\n      <td>4</td>\n      <td>Sunbeam</td>\n      <td>110 mins</td>\n      <td>7.3</td>\n      <td>16067035.0</td>\n      <td>59567035.0</td>\n      <td>2</td>\n      <td>1000.0</td>\n      <td>Dr. No</td>\n      <td>June, 1962</td>\n      <td>7.7</td>\n    </tr>\n    <tr>\n      <th>1</th>\n      <td>Sean Connery</td>\n      <td>11</td>\n      <td>Bentley</td>\n      <td>115 mins</td>\n      <td>7.5</td>\n      <td>24800000.0</td>\n      <td>78900000.0</td>\n      <td>0</td>\n      <td>2000.0</td>\n      <td>From Russia with Love</td>\n      <td>August, 1963</td>\n      <td>8.0</td>\n    </tr>\n    <tr>\n      <th>2</th>\n      <td>Sean Connery</td>\n      <td>9</td>\n      <td>Aston Martin</td>\n      <td>110 mins</td>\n      <td>7.8</td>\n      <td>51100000.0</td>\n      <td>124900000.0</td>\n      <td>1</td>\n      <td>3000.0</td>\n      <td>Goldfinger</td>\n      <td>May, 1964</td>\n      <td>8.4</td>\n    </tr>\n    <tr>\n      <th>3</th>\n      <td>Sean Connery</td>\n      <td>20</td>\n      <td>Aston Martin</td>\n      <td>130 mins</td>\n      <td>7.0</td>\n      <td>63600000.0</td>\n      <td>141200000.0</td>\n      <td>0</td>\n      <td>9000.0</td>\n      <td>Thunderball</td>\n      <td>September, 1965</td>\n      <td>6.8</td>\n    </tr>\n    <tr>\n      <th>4</th>\n      <td>Sean Connery</td>\n      <td>21</td>\n      <td>Toyota</td>\n      <td>117 mins</td>\n      <td>6.9</td>\n      <td>43100000.0</td>\n      <td>111600000.0</td>\n      <td>1</td>\n      <td>9500.0</td>\n      <td>You Only Live Twice</td>\n      <td>November, 1967</td>\n      <td>6.3</td>\n    </tr>\n  </tbody>\n</table>\n</div>"
          },
          "metadata": {}
        }
      ],
      "execution_count": 20
    },
    {
      "cell_type": "markdown",
      "source": "\n\n## Correcting Invalid Data Types",
      "metadata": {}
    },
    {
      "cell_type": "code",
      "source": "data = (\n    james_bond_data.rename(columns=new_column_names)\n    .combine_first(\n        pd.DataFrame({\"imdb\": {10: 7.1}, \"rotten_tomatoes\": {10: 6.8}})\n    )\n    .assign(\n        income_usa=lambda data: (\n            data[\"income_usa\"]\n            .replace(\"[$,]\", \"\", regex=True)\n            .astype(\"Float64\")\n        ),\n        income_world=lambda data: (\n            data[\"income_world\"]\n            .replace(\"[$,]\", \"\", regex=True)\n            .astype(\"Float64\")\n        ),\n        movie_budget=lambda data: (\n            data[\"movie_budget\"]\n            .replace(\"[$,]\", \"\", regex=True)\n            .astype(\"Float64\")\n        ),\n        film_length=lambda data: (\n            data[\"film_length\"]\n            .str.removesuffix(\"mins\")\n            .astype(\"Int64\")\n        ),\n    )\n)\n",
      "metadata": {
        "trusted": true
      },
      "outputs": [],
      "execution_count": 27
    },
    {
      "cell_type": "code",
      "source": "data.head()",
      "metadata": {
        "trusted": true
      },
      "outputs": [
        {
          "execution_count": 23,
          "output_type": "execute_result",
          "data": {
            "text/plain": "     bond_actor  bond_kills car_manufacturer  film_length  imdb  \\\n0  Sean Connery           4          Sunbeam          110   7.3   \n1  Sean Connery          11          Bentley          115   7.5   \n2  Sean Connery           9     Aston Martin          110   7.8   \n3  Sean Connery          20     Aston Martin          130   7.0   \n4  Sean Connery          21           Toyota          117   6.9   \n\n         income_usa       income_world  martinis_consumed movie_budget  \\\n0   $16,067,035.00     $59,567,035.00                   2   $1,000.00    \n1   $24,800,000.00     $78,900,000.00                   0   $2,000.00    \n2   $51,100,000.00    $124,900,000.00                   1   $3,000.00    \n3   $63,600,000.00    $141,200,000.00                   0   $9,000.00    \n4   $43,100,000.00    $111,600,000.00                   1   $9,500.00    \n\n             movie_title     release_date  rotten_tomatoes  \n0                 Dr. No       June, 1962              7.7  \n1  From Russia with Love     August, 1963              8.0  \n2             Goldfinger        May, 1964              8.4  \n3            Thunderball  September, 1965              6.8  \n4    You Only Live Twice   November, 1967              6.3  ",
            "text/html": "<div>\n<style scoped>\n    .dataframe tbody tr th:only-of-type {\n        vertical-align: middle;\n    }\n\n    .dataframe tbody tr th {\n        vertical-align: top;\n    }\n\n    .dataframe thead th {\n        text-align: right;\n    }\n</style>\n<table border=\"1\" class=\"dataframe\">\n  <thead>\n    <tr style=\"text-align: right;\">\n      <th></th>\n      <th>bond_actor</th>\n      <th>bond_kills</th>\n      <th>car_manufacturer</th>\n      <th>film_length</th>\n      <th>imdb</th>\n      <th>income_usa</th>\n      <th>income_world</th>\n      <th>martinis_consumed</th>\n      <th>movie_budget</th>\n      <th>movie_title</th>\n      <th>release_date</th>\n      <th>rotten_tomatoes</th>\n    </tr>\n  </thead>\n  <tbody>\n    <tr>\n      <th>0</th>\n      <td>Sean Connery</td>\n      <td>4</td>\n      <td>Sunbeam</td>\n      <td>110</td>\n      <td>7.3</td>\n      <td>$16,067,035.00</td>\n      <td>$59,567,035.00</td>\n      <td>2</td>\n      <td>$1,000.00</td>\n      <td>Dr. No</td>\n      <td>June, 1962</td>\n      <td>7.7</td>\n    </tr>\n    <tr>\n      <th>1</th>\n      <td>Sean Connery</td>\n      <td>11</td>\n      <td>Bentley</td>\n      <td>115</td>\n      <td>7.5</td>\n      <td>$24,800,000.00</td>\n      <td>$78,900,000.00</td>\n      <td>0</td>\n      <td>$2,000.00</td>\n      <td>From Russia with Love</td>\n      <td>August, 1963</td>\n      <td>8.0</td>\n    </tr>\n    <tr>\n      <th>2</th>\n      <td>Sean Connery</td>\n      <td>9</td>\n      <td>Aston Martin</td>\n      <td>110</td>\n      <td>7.8</td>\n      <td>$51,100,000.00</td>\n      <td>$124,900,000.00</td>\n      <td>1</td>\n      <td>$3,000.00</td>\n      <td>Goldfinger</td>\n      <td>May, 1964</td>\n      <td>8.4</td>\n    </tr>\n    <tr>\n      <th>3</th>\n      <td>Sean Connery</td>\n      <td>20</td>\n      <td>Aston Martin</td>\n      <td>130</td>\n      <td>7.0</td>\n      <td>$63,600,000.00</td>\n      <td>$141,200,000.00</td>\n      <td>0</td>\n      <td>$9,000.00</td>\n      <td>Thunderball</td>\n      <td>September, 1965</td>\n      <td>6.8</td>\n    </tr>\n    <tr>\n      <th>4</th>\n      <td>Sean Connery</td>\n      <td>21</td>\n      <td>Toyota</td>\n      <td>117</td>\n      <td>6.9</td>\n      <td>$43,100,000.00</td>\n      <td>$111,600,000.00</td>\n      <td>1</td>\n      <td>$9,500.00</td>\n      <td>You Only Live Twice</td>\n      <td>November, 1967</td>\n      <td>6.3</td>\n    </tr>\n  </tbody>\n</table>\n</div>"
          },
          "metadata": {}
        }
      ],
      "execution_count": 23
    },
    {
      "cell_type": "markdown",
      "source": "Changing Dates",
      "metadata": {}
    },
    {
      "cell_type": "code",
      "source": "data = (\n    james_bond_data.rename(columns=new_column_names)\n    .combine_first(\n        pd.DataFrame({\"imdb\": {10: 7.1}, \"rotten_tomatoes\": {10: 6.8}})\n    )\n    .assign(\n        income_usa=lambda data: (\n            data[\"income_usa\"]\n            .replace(\"[$,]\", \"\", regex=True)\n            .astype(\"Float64\")\n        ),\n        income_world=lambda data: (\n            data[\"income_world\"]\n            .replace(\"[$,]\", \"\", regex=True)\n            .astype(\"Float64\")\n        ),\n        movie_budget=lambda data: (\n            data[\"movie_budget\"]\n            .replace(\"[$,]\", \"\", regex=True)\n            .astype(\"Float64\")\n        ),\n        film_length=lambda data: (\n            data[\"film_length\"]\n            .str.removesuffix(\"mins\")\n            .astype(\"Int64\")\n        ),\n        release_date=lambda data: pd.to_datetime(\n            data[\"release_date\"], format=\"%B, %Y\"\n        ),\n        release_year=lambda data: (\n            data[\"release_date\"]\n            .dt.year\n            .astype(\"Int64\")\n        ),\n    )\n)",
      "metadata": {
        "trusted": true
      },
      "outputs": [],
      "execution_count": 28
    },
    {
      "cell_type": "code",
      "source": "data.head()",
      "metadata": {
        "trusted": true
      },
      "outputs": [
        {
          "execution_count": 29,
          "output_type": "execute_result",
          "data": {
            "text/plain": "     bond_actor  bond_kills car_manufacturer  film_length  imdb  income_usa  \\\n0  Sean Connery           4          Sunbeam          110   7.3  16067035.0   \n1  Sean Connery          11          Bentley          115   7.5  24800000.0   \n2  Sean Connery           9     Aston Martin          110   7.8  51100000.0   \n3  Sean Connery          20     Aston Martin          130   7.0  63600000.0   \n4  Sean Connery          21           Toyota          117   6.9  43100000.0   \n\n   income_world  martinis_consumed  movie_budget            movie_title  \\\n0    59567035.0                  2        1000.0                 Dr. No   \n1    78900000.0                  0        2000.0  From Russia with Love   \n2   124900000.0                  1        3000.0             Goldfinger   \n3   141200000.0                  0        9000.0            Thunderball   \n4   111600000.0                  1        9500.0    You Only Live Twice   \n\n  release_date  rotten_tomatoes  release_year  \n0   1962-06-01              7.7          1962  \n1   1963-08-01              8.0          1963  \n2   1964-05-01              8.4          1964  \n3   1965-09-01              6.8          1965  \n4   1967-11-01              6.3          1967  ",
            "text/html": "<div>\n<style scoped>\n    .dataframe tbody tr th:only-of-type {\n        vertical-align: middle;\n    }\n\n    .dataframe tbody tr th {\n        vertical-align: top;\n    }\n\n    .dataframe thead th {\n        text-align: right;\n    }\n</style>\n<table border=\"1\" class=\"dataframe\">\n  <thead>\n    <tr style=\"text-align: right;\">\n      <th></th>\n      <th>bond_actor</th>\n      <th>bond_kills</th>\n      <th>car_manufacturer</th>\n      <th>film_length</th>\n      <th>imdb</th>\n      <th>income_usa</th>\n      <th>income_world</th>\n      <th>martinis_consumed</th>\n      <th>movie_budget</th>\n      <th>movie_title</th>\n      <th>release_date</th>\n      <th>rotten_tomatoes</th>\n      <th>release_year</th>\n    </tr>\n  </thead>\n  <tbody>\n    <tr>\n      <th>0</th>\n      <td>Sean Connery</td>\n      <td>4</td>\n      <td>Sunbeam</td>\n      <td>110</td>\n      <td>7.3</td>\n      <td>16067035.0</td>\n      <td>59567035.0</td>\n      <td>2</td>\n      <td>1000.0</td>\n      <td>Dr. No</td>\n      <td>1962-06-01</td>\n      <td>7.7</td>\n      <td>1962</td>\n    </tr>\n    <tr>\n      <th>1</th>\n      <td>Sean Connery</td>\n      <td>11</td>\n      <td>Bentley</td>\n      <td>115</td>\n      <td>7.5</td>\n      <td>24800000.0</td>\n      <td>78900000.0</td>\n      <td>0</td>\n      <td>2000.0</td>\n      <td>From Russia with Love</td>\n      <td>1963-08-01</td>\n      <td>8.0</td>\n      <td>1963</td>\n    </tr>\n    <tr>\n      <th>2</th>\n      <td>Sean Connery</td>\n      <td>9</td>\n      <td>Aston Martin</td>\n      <td>110</td>\n      <td>7.8</td>\n      <td>51100000.0</td>\n      <td>124900000.0</td>\n      <td>1</td>\n      <td>3000.0</td>\n      <td>Goldfinger</td>\n      <td>1964-05-01</td>\n      <td>8.4</td>\n      <td>1964</td>\n    </tr>\n    <tr>\n      <th>3</th>\n      <td>Sean Connery</td>\n      <td>20</td>\n      <td>Aston Martin</td>\n      <td>130</td>\n      <td>7.0</td>\n      <td>63600000.0</td>\n      <td>141200000.0</td>\n      <td>0</td>\n      <td>9000.0</td>\n      <td>Thunderball</td>\n      <td>1965-09-01</td>\n      <td>6.8</td>\n      <td>1965</td>\n    </tr>\n    <tr>\n      <th>4</th>\n      <td>Sean Connery</td>\n      <td>21</td>\n      <td>Toyota</td>\n      <td>117</td>\n      <td>6.9</td>\n      <td>43100000.0</td>\n      <td>111600000.0</td>\n      <td>1</td>\n      <td>9500.0</td>\n      <td>You Only Live Twice</td>\n      <td>1967-11-01</td>\n      <td>6.3</td>\n      <td>1967</td>\n    </tr>\n  </tbody>\n</table>\n</div>"
          },
          "metadata": {}
        }
      ],
      "execution_count": 29
    },
    {
      "cell_type": "markdown",
      "source": "<br>\n\nCheck if everything is now correct",
      "metadata": {}
    },
    {
      "cell_type": "code",
      "source": "data.info()",
      "metadata": {
        "trusted": true
      },
      "outputs": [
        {
          "name": "stdout",
          "output_type": "stream",
          "text": "<class 'pandas.core.frame.DataFrame'>\nIndex: 27 entries, 0 to 26\nData columns (total 13 columns):\n #   Column             Non-Null Count  Dtype         \n---  ------             --------------  -----         \n 0   bond_actor         27 non-null     string        \n 1   bond_kills         27 non-null     Int64         \n 2   car_manufacturer   27 non-null     string        \n 3   film_length        27 non-null     Int64         \n 4   imdb               27 non-null     Float64       \n 5   income_usa         27 non-null     Float64       \n 6   income_world       27 non-null     Float64       \n 7   martinis_consumed  27 non-null     Int64         \n 8   movie_budget       27 non-null     Float64       \n 9   movie_title        27 non-null     string        \n 10  release_date       27 non-null     datetime64[ns]\n 11  rotten_tomatoes    27 non-null     Float64       \n 12  release_year       27 non-null     Int64         \ndtypes: Float64(5), Int64(4), datetime64[ns](1), string(3)\nmemory usage: 2.9 KB\n"
        }
      ],
      "execution_count": 30
    },
    {
      "cell_type": "markdown",
      "source": "<br>\n\n## Fixing Inconsistences in Data",
      "metadata": {}
    },
    {
      "cell_type": "markdown",
      "source": "The movie budget figure is incorrect, you need to multiply by 1000",
      "metadata": {}
    },
    {
      "cell_type": "code",
      "source": "data = (\n    james_bond_data.rename(columns=new_column_names)\n    .combine_first(\n        pd.DataFrame({\"imdb\": {10: 7.1}, \"rotten_tomatoes\": {10: 6.8}})\n    )\n    .assign(\n        income_usa=lambda data: (\n            data[\"income_usa\"]\n            .replace(\"[$,]\", \"\", regex=True)\n            .astype(\"Float64\")\n        ),\n        income_world=lambda data: (\n            data[\"income_world\"]\n            .replace(\"[$,]\", \"\", regex=True)\n            .astype(\"Float64\")\n        ),\n        movie_budget=lambda data: (\n            data[\"movie_budget\"]\n            .replace(\"[$,]\", \"\", regex=True)\n            .astype(\"Float64\") * 1000\n        ),\n        film_length=lambda data: (\n            data[\"film_length\"]\n            .str.removesuffix(\"mins\")\n            .astype(\"Int64\")\n        ),\n        release_date=lambda data: pd.to_datetime(\n            data[\"release_date\"], format=\"%B, %Y\"\n        ),\n        release_year=lambda data: (\n            data[\"release_date\"]\n            .dt.year\n            .astype(\"Int64\")\n        ),\n    )\n)\n",
      "metadata": {
        "trusted": true
      },
      "outputs": [],
      "execution_count": 33
    },
    {
      "cell_type": "markdown",
      "source": "<br>\n\nIf you check it now it should be correct",
      "metadata": {}
    },
    {
      "cell_type": "code",
      "source": "data.head()",
      "metadata": {
        "trusted": true
      },
      "outputs": [
        {
          "execution_count": 35,
          "output_type": "execute_result",
          "data": {
            "text/plain": "     bond_actor  bond_kills car_manufacturer  film_length  imdb  income_usa  \\\n0  Sean Connery           4          Sunbeam          110   7.3  16067035.0   \n1  Sean Connery          11          Bentley          115   7.5  24800000.0   \n2  Sean Connery           9     Aston Martin          110   7.8  51100000.0   \n3  Sean Connery          20     Aston Martin          130   7.0  63600000.0   \n4  Sean Connery          21           Toyota          117   6.9  43100000.0   \n\n   income_world  martinis_consumed  movie_budget            movie_title  \\\n0    59567035.0                  2     1000000.0                 Dr. No   \n1    78900000.0                  0     2000000.0  From Russia with Love   \n2   124900000.0                  1     3000000.0             Goldfinger   \n3   141200000.0                  0     9000000.0            Thunderball   \n4   111600000.0                  1     9500000.0    You Only Live Twice   \n\n  release_date  rotten_tomatoes  release_year  \n0   1962-06-01              7.7          1962  \n1   1963-08-01              8.0          1963  \n2   1964-05-01              8.4          1964  \n3   1965-09-01              6.8          1965  \n4   1967-11-01              6.3          1967  ",
            "text/html": "<div>\n<style scoped>\n    .dataframe tbody tr th:only-of-type {\n        vertical-align: middle;\n    }\n\n    .dataframe tbody tr th {\n        vertical-align: top;\n    }\n\n    .dataframe thead th {\n        text-align: right;\n    }\n</style>\n<table border=\"1\" class=\"dataframe\">\n  <thead>\n    <tr style=\"text-align: right;\">\n      <th></th>\n      <th>bond_actor</th>\n      <th>bond_kills</th>\n      <th>car_manufacturer</th>\n      <th>film_length</th>\n      <th>imdb</th>\n      <th>income_usa</th>\n      <th>income_world</th>\n      <th>martinis_consumed</th>\n      <th>movie_budget</th>\n      <th>movie_title</th>\n      <th>release_date</th>\n      <th>rotten_tomatoes</th>\n      <th>release_year</th>\n    </tr>\n  </thead>\n  <tbody>\n    <tr>\n      <th>0</th>\n      <td>Sean Connery</td>\n      <td>4</td>\n      <td>Sunbeam</td>\n      <td>110</td>\n      <td>7.3</td>\n      <td>16067035.0</td>\n      <td>59567035.0</td>\n      <td>2</td>\n      <td>1000000.0</td>\n      <td>Dr. No</td>\n      <td>1962-06-01</td>\n      <td>7.7</td>\n      <td>1962</td>\n    </tr>\n    <tr>\n      <th>1</th>\n      <td>Sean Connery</td>\n      <td>11</td>\n      <td>Bentley</td>\n      <td>115</td>\n      <td>7.5</td>\n      <td>24800000.0</td>\n      <td>78900000.0</td>\n      <td>0</td>\n      <td>2000000.0</td>\n      <td>From Russia with Love</td>\n      <td>1963-08-01</td>\n      <td>8.0</td>\n      <td>1963</td>\n    </tr>\n    <tr>\n      <th>2</th>\n      <td>Sean Connery</td>\n      <td>9</td>\n      <td>Aston Martin</td>\n      <td>110</td>\n      <td>7.8</td>\n      <td>51100000.0</td>\n      <td>124900000.0</td>\n      <td>1</td>\n      <td>3000000.0</td>\n      <td>Goldfinger</td>\n      <td>1964-05-01</td>\n      <td>8.4</td>\n      <td>1964</td>\n    </tr>\n    <tr>\n      <th>3</th>\n      <td>Sean Connery</td>\n      <td>20</td>\n      <td>Aston Martin</td>\n      <td>130</td>\n      <td>7.0</td>\n      <td>63600000.0</td>\n      <td>141200000.0</td>\n      <td>0</td>\n      <td>9000000.0</td>\n      <td>Thunderball</td>\n      <td>1965-09-01</td>\n      <td>6.8</td>\n      <td>1965</td>\n    </tr>\n    <tr>\n      <th>4</th>\n      <td>Sean Connery</td>\n      <td>21</td>\n      <td>Toyota</td>\n      <td>117</td>\n      <td>6.9</td>\n      <td>43100000.0</td>\n      <td>111600000.0</td>\n      <td>1</td>\n      <td>9500000.0</td>\n      <td>You Only Live Twice</td>\n      <td>1967-11-01</td>\n      <td>6.3</td>\n      <td>1967</td>\n    </tr>\n  </tbody>\n</table>\n</div>"
          },
          "metadata": {}
        }
      ],
      "execution_count": 35
    },
    {
      "cell_type": "markdown",
      "source": "<br>\n\n## Correcting spelling errors\n\nLook for typos in your data so values are attributed correctly",
      "metadata": {}
    },
    {
      "cell_type": "code",
      "source": "data[\"bond_actor\"].value_counts()",
      "metadata": {
        "trusted": true
      },
      "outputs": [
        {
          "execution_count": 36,
          "output_type": "execute_result",
          "data": {
            "text/plain": "bond_actor\nRoger Moore       7\nSean Connery      5\nDaniel Craig      5\nPierce Brosnan    4\nTimothy Dalton    3\nGeorge Lazenby    1\nShawn Connery     1\nRoger MOORE       1\nName: count, dtype: Int64"
          },
          "metadata": {}
        }
      ],
      "execution_count": 36
    },
    {
      "cell_type": "markdown",
      "source": "<br>\n\nGo ahead and fix the names",
      "metadata": {}
    },
    {
      "cell_type": "code",
      "source": "data = (\n    james_bond_data.rename(columns=new_column_names)\n    .combine_first(\n        pd.DataFrame({\"imdb\": {10: 7.1}, \"rotten_tomatoes\": {10: 6.8}})\n    )\n    .assign(\n        income_usa=lambda data: (\n            data[\"income_usa\"]\n            .replace(\"[$,]\", \"\", regex=True)\n            .astype(\"Float64\")\n        ),\n        income_world=lambda data: (\n            data[\"income_world\"]\n            .replace(\"[$,]\", \"\", regex=True)\n            .astype(\"Float64\")\n        ),\n        movie_budget=lambda data: (\n            data[\"movie_budget\"]\n            .replace(\"[$,]\", \"\", regex=True)\n            .astype(\"Float64\") * 1000\n        ),\n        film_length=lambda data: (\n            data[\"film_length\"]\n            .str.removesuffix(\"mins\")\n            .astype(\"Int64\")\n        ),\n        release_date=lambda data: pd.to_datetime(\n            data[\"release_date\"], format=\"%B, %Y\"\n        ),\n        release_year=lambda data: (\n            data[\"release_date\"]\n            .dt.year\n            .astype(\"Int64\")\n        ),\n        bond_actor=lambda data: (\n            data[\"bond_actor\"]\n            .str.replace(\"Shawn\", \"Sean\")\n            .str.replace(\"MOORE\", \"Moore\")\n        ),\n    )\n)\n",
      "metadata": {
        "trusted": true
      },
      "outputs": [],
      "execution_count": 37
    },
    {
      "cell_type": "markdown",
      "source": "Check the counts now",
      "metadata": {}
    },
    {
      "cell_type": "code",
      "source": "data[\"bond_actor\"].value_counts()",
      "metadata": {
        "trusted": true
      },
      "outputs": [
        {
          "execution_count": 38,
          "output_type": "execute_result",
          "data": {
            "text/plain": "bond_actor\nRoger Moore       8\nSean Connery      6\nDaniel Craig      5\nPierce Brosnan    4\nTimothy Dalton    3\nGeorge Lazenby    1\nName: count, dtype: Int64"
          },
          "metadata": {}
        }
      ],
      "execution_count": 38
    },
    {
      "cell_type": "markdown",
      "source": "<br>\n\nCheck also the car counts",
      "metadata": {}
    },
    {
      "cell_type": "code",
      "source": "data[\"car_manufacturer\"].value_counts()",
      "metadata": {
        "trusted": true
      },
      "outputs": [
        {
          "execution_count": 40,
          "output_type": "execute_result",
          "data": {
            "text/plain": "car_manufacturer\nAston Martin    8\nAMC             3\nRolls Royce     3\nLotus           2\nBMW             2\nAstin Martin    2\nSunbeam         1\nBentley         1\nToyota          1\nMercury         1\nFord            1\nCitroen         1\nBajaj           1\nName: count, dtype: Int64"
          },
          "metadata": {}
        }
      ],
      "execution_count": 40
    },
    {
      "cell_type": "markdown",
      "source": "<br>\n\nCorrect the data",
      "metadata": {}
    },
    {
      "cell_type": "code",
      "source": "data = (\n    james_bond_data.rename(columns=new_column_names)\n    .combine_first(\n        pd.DataFrame({\"imdb\": {10: 7.1}, \"rotten_tomatoes\": {10: 6.8}})\n    )\n    .assign(\n        income_usa=lambda data: (\n            data[\"income_usa\"]\n            .replace(\"[$,]\", \"\", regex=True)\n            .astype(\"Float64\")\n        ),\n        income_world=lambda data: (\n            data[\"income_world\"]\n            .replace(\"[$,]\", \"\", regex=True)\n            .astype(\"Float64\")\n        ),\n        movie_budget=lambda data: (\n            data[\"movie_budget\"]\n            .replace(\"[$,]\", \"\", regex=True)\n            .astype(\"Float64\") * 1000\n        ),\n        film_length=lambda data: (\n            data[\"film_length\"]\n            .str.removesuffix(\"mins\")\n            .astype(\"Int64\")\n        ),\n        release_date=lambda data: pd.to_datetime(\n            data[\"release_date\"], format=\"%B, %Y\"\n        ),\n        release_year=lambda data: (\n            data[\"release_date\"]\n            .dt.year\n            .astype(\"Int64\")\n        ),\n        bond_actor=lambda data: (\n            data[\"bond_actor\"]\n            .str.replace(\"Shawn\", \"Sean\")\n            .str.replace(\"MOORE\", \"Moore\")\n        ),\n        car_manufacturer=lambda data: (\n            data[\"car_manufacturer\"].str.replace(\"Astin\", \"Aston\")\n        ),\n    )\n)\n",
      "metadata": {
        "trusted": true
      },
      "outputs": [],
      "execution_count": 42
    },
    {
      "cell_type": "code",
      "source": "data[\"car_manufacturer\"].value_counts()",
      "metadata": {
        "trusted": true
      },
      "outputs": [
        {
          "execution_count": 43,
          "output_type": "execute_result",
          "data": {
            "text/plain": "car_manufacturer\nAston Martin    10\nAMC              3\nRolls Royce      3\nLotus            2\nBMW              2\nSunbeam          1\nBentley          1\nToyota           1\nMercury          1\nFord             1\nCitroen          1\nBajaj            1\nName: count, dtype: Int64"
          },
          "metadata": {}
        }
      ],
      "execution_count": 43
    },
    {
      "cell_type": "markdown",
      "source": "<br>\n\n## Check for Invalid operators\nNeed to verify if data is in the correct numerical range",
      "metadata": {}
    },
    {
      "cell_type": "code",
      "source": " data[[\"film_length\", \"martinis_consumed\"]].describe()",
      "metadata": {
        "trusted": true
      },
      "outputs": [
        {
          "execution_count": 46,
          "output_type": "execute_result",
          "data": {
            "text/plain": "       film_length  martinis_consumed\ncount         27.0               27.0\nmean    168.222222            0.62963\nstd     206.572083           1.547905\nmin          106.0               -6.0\n25%          123.0                0.0\n50%          130.0                1.0\n75%          133.0                1.0\nmax         1200.0                3.0",
            "text/html": "<div>\n<style scoped>\n    .dataframe tbody tr th:only-of-type {\n        vertical-align: middle;\n    }\n\n    .dataframe tbody tr th {\n        vertical-align: top;\n    }\n\n    .dataframe thead th {\n        text-align: right;\n    }\n</style>\n<table border=\"1\" class=\"dataframe\">\n  <thead>\n    <tr style=\"text-align: right;\">\n      <th></th>\n      <th>film_length</th>\n      <th>martinis_consumed</th>\n    </tr>\n  </thead>\n  <tbody>\n    <tr>\n      <th>count</th>\n      <td>27.0</td>\n      <td>27.0</td>\n    </tr>\n    <tr>\n      <th>mean</th>\n      <td>168.222222</td>\n      <td>0.62963</td>\n    </tr>\n    <tr>\n      <th>std</th>\n      <td>206.572083</td>\n      <td>1.547905</td>\n    </tr>\n    <tr>\n      <th>min</th>\n      <td>106.0</td>\n      <td>-6.0</td>\n    </tr>\n    <tr>\n      <th>25%</th>\n      <td>123.0</td>\n      <td>0.0</td>\n    </tr>\n    <tr>\n      <th>50%</th>\n      <td>130.0</td>\n      <td>1.0</td>\n    </tr>\n    <tr>\n      <th>75%</th>\n      <td>133.0</td>\n      <td>1.0</td>\n    </tr>\n    <tr>\n      <th>max</th>\n      <td>1200.0</td>\n      <td>3.0</td>\n    </tr>\n  </tbody>\n</table>\n</div>"
          },
          "metadata": {}
        }
      ],
      "execution_count": 46
    },
    {
      "cell_type": "markdown",
      "source": "Fix the issues",
      "metadata": {}
    },
    {
      "cell_type": "code",
      "source": "data = (\n    james_bond_data.rename(columns=new_column_names)\n    .combine_first(\n        pd.DataFrame({\"imdb\": {10: 7.1}, \"rotten_tomatoes\": {10: 6.8}})\n    )\n    .assign(\n        income_usa=lambda data: (\n            data[\"income_usa\"]\n            .replace(\"[$,]\", \"\", regex=True)\n            .astype(\"Float64\")\n        ),\n        income_world=lambda data: (\n            data[\"income_world\"]\n            .replace(\"[$,]\", \"\", regex=True)\n            .astype(\"Float64\")\n        ),\n        movie_budget=lambda data: (\n            data[\"movie_budget\"]\n            .replace(\"[$,]\", \"\", regex=True)\n            .astype(\"Float64\") * 1000\n        ),\n        film_length=lambda data: (\n            data[\"film_length\"]\n            .str.removesuffix(\"mins\")\n            .astype(\"Int64\")\n            .replace(1200, 120)\n        ),\n        release_date=lambda data: pd.to_datetime(\n            data[\"release_date\"], format=\"%B, %Y\"\n        ),\n        release_year=lambda data: (\n            data[\"release_date\"]\n            .dt.year\n            .astype(\"Int64\")\n        ),\n        bond_actor=lambda data: (\n            data[\"bond_actor\"]\n            .str.replace(\"Shawn\", \"Sean\")\n            .str.replace(\"MOORE\", \"Moore\")\n        ),\n        car_manufacturer=lambda data: (\n            data[\"car_manufacturer\"].str.replace(\"Astin\", \"Aston\")\n        ),\n        martinis_consumed=lambda data: (\n            data[\"martinis_consumed\"].replace(-6, 6)\n        ),\n    )\n)\n",
      "metadata": {
        "trusted": true
      },
      "outputs": [],
      "execution_count": 47
    },
    {
      "cell_type": "markdown",
      "source": "<br> \n\nCheck if the issues are fixed",
      "metadata": {}
    },
    {
      "cell_type": "code",
      "source": " data[[\"film_length\", \"martinis_consumed\"]].describe()",
      "metadata": {
        "trusted": true
      },
      "outputs": [
        {
          "execution_count": 48,
          "output_type": "execute_result",
          "data": {
            "text/plain": "       film_length  martinis_consumed\ncount         27.0               27.0\nmean    128.222222           1.074074\nstd      12.454018           1.268734\nmin          106.0                0.0\n25%          120.5                0.0\n50%          128.0                1.0\n75%          132.0                1.0\nmax          163.0                6.0",
            "text/html": "<div>\n<style scoped>\n    .dataframe tbody tr th:only-of-type {\n        vertical-align: middle;\n    }\n\n    .dataframe tbody tr th {\n        vertical-align: top;\n    }\n\n    .dataframe thead th {\n        text-align: right;\n    }\n</style>\n<table border=\"1\" class=\"dataframe\">\n  <thead>\n    <tr style=\"text-align: right;\">\n      <th></th>\n      <th>film_length</th>\n      <th>martinis_consumed</th>\n    </tr>\n  </thead>\n  <tbody>\n    <tr>\n      <th>count</th>\n      <td>27.0</td>\n      <td>27.0</td>\n    </tr>\n    <tr>\n      <th>mean</th>\n      <td>128.222222</td>\n      <td>1.074074</td>\n    </tr>\n    <tr>\n      <th>std</th>\n      <td>12.454018</td>\n      <td>1.268734</td>\n    </tr>\n    <tr>\n      <th>min</th>\n      <td>106.0</td>\n      <td>0.0</td>\n    </tr>\n    <tr>\n      <th>25%</th>\n      <td>120.5</td>\n      <td>0.0</td>\n    </tr>\n    <tr>\n      <th>50%</th>\n      <td>128.0</td>\n      <td>1.0</td>\n    </tr>\n    <tr>\n      <th>75%</th>\n      <td>132.0</td>\n      <td>1.0</td>\n    </tr>\n    <tr>\n      <th>max</th>\n      <td>163.0</td>\n      <td>6.0</td>\n    </tr>\n  </tbody>\n</table>\n</div>"
          },
          "metadata": {}
        }
      ],
      "execution_count": 48
    },
    {
      "cell_type": "markdown",
      "source": "<br>\n## Remove duplicate data\n\nCheck if rows of data have been duplicated",
      "metadata": {}
    },
    {
      "cell_type": "code",
      "source": "data.loc[data.duplicated(keep=False)]",
      "metadata": {
        "trusted": true
      },
      "outputs": [
        {
          "execution_count": 49,
          "output_type": "execute_result",
          "data": {
            "text/plain": "        bond_actor  bond_kills car_manufacturer  film_length  imdb  \\\n8      Roger Moore           1              AMC          125   6.7   \n9      Roger Moore           1              AMC          125   6.7   \n15  Timothy Dalton          13      Rolls Royce          130   6.7   \n16  Timothy Dalton          13      Rolls Royce          130   6.7   \n\n    income_usa  income_world  martinis_consumed  movie_budget  \\\n8   21000000.0    97600000.0                  0     7000000.0   \n9   21000000.0    97600000.0                  0     7000000.0   \n15  51185000.0   191200000.0                  2    40000000.0   \n16  51185000.0   191200000.0                  2    40000000.0   \n\n                    movie_title release_date  rotten_tomatoes  release_year  \n8   The Man with the Golden Gun   1974-07-01              5.1          1974  \n9   The Man with the Golden Gun   1974-07-01              5.1          1974  \n15         The Living Daylights   1987-05-01              6.3          1987  \n16         The Living Daylights   1987-05-01              6.3          1987  ",
            "text/html": "<div>\n<style scoped>\n    .dataframe tbody tr th:only-of-type {\n        vertical-align: middle;\n    }\n\n    .dataframe tbody tr th {\n        vertical-align: top;\n    }\n\n    .dataframe thead th {\n        text-align: right;\n    }\n</style>\n<table border=\"1\" class=\"dataframe\">\n  <thead>\n    <tr style=\"text-align: right;\">\n      <th></th>\n      <th>bond_actor</th>\n      <th>bond_kills</th>\n      <th>car_manufacturer</th>\n      <th>film_length</th>\n      <th>imdb</th>\n      <th>income_usa</th>\n      <th>income_world</th>\n      <th>martinis_consumed</th>\n      <th>movie_budget</th>\n      <th>movie_title</th>\n      <th>release_date</th>\n      <th>rotten_tomatoes</th>\n      <th>release_year</th>\n    </tr>\n  </thead>\n  <tbody>\n    <tr>\n      <th>8</th>\n      <td>Roger Moore</td>\n      <td>1</td>\n      <td>AMC</td>\n      <td>125</td>\n      <td>6.7</td>\n      <td>21000000.0</td>\n      <td>97600000.0</td>\n      <td>0</td>\n      <td>7000000.0</td>\n      <td>The Man with the Golden Gun</td>\n      <td>1974-07-01</td>\n      <td>5.1</td>\n      <td>1974</td>\n    </tr>\n    <tr>\n      <th>9</th>\n      <td>Roger Moore</td>\n      <td>1</td>\n      <td>AMC</td>\n      <td>125</td>\n      <td>6.7</td>\n      <td>21000000.0</td>\n      <td>97600000.0</td>\n      <td>0</td>\n      <td>7000000.0</td>\n      <td>The Man with the Golden Gun</td>\n      <td>1974-07-01</td>\n      <td>5.1</td>\n      <td>1974</td>\n    </tr>\n    <tr>\n      <th>15</th>\n      <td>Timothy Dalton</td>\n      <td>13</td>\n      <td>Rolls Royce</td>\n      <td>130</td>\n      <td>6.7</td>\n      <td>51185000.0</td>\n      <td>191200000.0</td>\n      <td>2</td>\n      <td>40000000.0</td>\n      <td>The Living Daylights</td>\n      <td>1987-05-01</td>\n      <td>6.3</td>\n      <td>1987</td>\n    </tr>\n    <tr>\n      <th>16</th>\n      <td>Timothy Dalton</td>\n      <td>13</td>\n      <td>Rolls Royce</td>\n      <td>130</td>\n      <td>6.7</td>\n      <td>51185000.0</td>\n      <td>191200000.0</td>\n      <td>2</td>\n      <td>40000000.0</td>\n      <td>The Living Daylights</td>\n      <td>1987-05-01</td>\n      <td>6.3</td>\n      <td>1987</td>\n    </tr>\n  </tbody>\n</table>\n</div>"
          },
          "metadata": {}
        }
      ],
      "execution_count": 49
    },
    {
      "cell_type": "markdown",
      "source": "<br>\n\nRemove the duplicates with `drop_duplicates` method",
      "metadata": {}
    },
    {
      "cell_type": "code",
      "source": "data = (\n    james_bond_data.rename(columns=new_column_names)\n    .combine_first(\n        pd.DataFrame({\"imdb\": {10: 7.1}, \"rotten_tomatoes\": {10: 6.8}})\n    )\n    .assign(\n        income_usa=lambda data: (\n            data[\"income_usa\"]\n            .replace(\"[$,]\", \"\", regex=True)\n            .astype(\"Float64\")\n        ),\n        income_world=lambda data: (\n            data[\"income_world\"]\n            .replace(\"[$,]\", \"\", regex=True)\n            .astype(\"Float64\")\n        ),\n        movie_budget=lambda data: (\n            data[\"movie_budget\"]\n            .replace(\"[$,]\", \"\", regex=True)\n            .astype(\"Float64\") * 1000\n        ),\n        film_length=lambda data: (\n            data[\"film_length\"]\n            .str.removesuffix(\"mins\")\n            .astype(\"Int64\")\n            .replace(1200, 120)\n        ),\n        release_date=lambda data: pd.to_datetime(\n            data[\"release_date\"], format=\"%B, %Y\"\n        ),\n        release_year=lambda data: (\n            data[\"release_date\"]\n            .dt.year\n            .astype(\"Int64\")\n        ),\n        bond_actor=lambda data: (\n            data[\"bond_actor\"]\n            .str.replace(\"Shawn\", \"Sean\")\n            .str.replace(\"MOORE\", \"Moore\")\n        ),\n        car_manufacturer=lambda data: (\n            data[\"car_manufacturer\"].str.replace(\"Astin\", \"Aston\")\n        ),\n        martinis_consumed=lambda data: (\n            data[\"martinis_consumed\"].replace(-6, 6)\n        ),\n    )\n    .drop_duplicates(ignore_index=True)\n)\n",
      "metadata": {
        "trusted": true
      },
      "outputs": [],
      "execution_count": null
    },
    {
      "cell_type": "markdown",
      "source": "<br> \n\nCheck if the data hgas been removed",
      "metadata": {}
    },
    {
      "cell_type": "code",
      "source": "data.loc[data.duplicated(keep=False)]",
      "metadata": {
        "trusted": true
      },
      "outputs": [
        {
          "execution_count": 53,
          "output_type": "execute_result",
          "data": {
            "text/plain": "Empty DataFrame\nColumns: [bond_actor, bond_kills, car_manufacturer, film_length, imdb, income_usa, income_world, martinis_consumed, movie_budget, movie_title, release_date, rotten_tomatoes, release_year]\nIndex: []",
            "text/html": "<div>\n<style scoped>\n    .dataframe tbody tr th:only-of-type {\n        vertical-align: middle;\n    }\n\n    .dataframe tbody tr th {\n        vertical-align: top;\n    }\n\n    .dataframe thead th {\n        text-align: right;\n    }\n</style>\n<table border=\"1\" class=\"dataframe\">\n  <thead>\n    <tr style=\"text-align: right;\">\n      <th></th>\n      <th>bond_actor</th>\n      <th>bond_kills</th>\n      <th>car_manufacturer</th>\n      <th>film_length</th>\n      <th>imdb</th>\n      <th>income_usa</th>\n      <th>income_world</th>\n      <th>martinis_consumed</th>\n      <th>movie_budget</th>\n      <th>movie_title</th>\n      <th>release_date</th>\n      <th>rotten_tomatoes</th>\n      <th>release_year</th>\n    </tr>\n  </thead>\n  <tbody>\n  </tbody>\n</table>\n</div>"
          },
          "metadata": {}
        }
      ],
      "execution_count": 53
    },
    {
      "cell_type": "markdown",
      "source": "<br>\n\n## Storing Your Cleansed Data\n\nUse the `to_csv` method",
      "metadata": {}
    },
    {
      "cell_type": "code",
      "source": "data.to_csv(\"james_bond_data_cleansed.csv\", index=False)",
      "metadata": {
        "trusted": true
      },
      "outputs": [],
      "execution_count": null
    },
    {
      "cell_type": "markdown",
      "source": "![green-divider](https://user-images.githubusercontent.com/7065401/52071924-c003ad80-2562-11e9-8297-1c6595f8a7ff.png)\n\n# Analysis\n\nLets plot some graphs",
      "metadata": {}
    },
    {
      "cell_type": "code",
      "source": "data = pd.read_csv(\"james_bond_data_cleansed.csv\").convert_dtypes()",
      "metadata": {
        "trusted": true
      },
      "outputs": [],
      "execution_count": null
    },
    {
      "cell_type": "code",
      "source": "data.head()",
      "metadata": {
        "trusted": true
      },
      "outputs": [],
      "execution_count": null
    },
    {
      "cell_type": "markdown",
      "source": "Draw a plot to figure out if Rotten Tomatoes are related to IMDB ratings",
      "metadata": {}
    },
    {
      "cell_type": "code",
      "source": "fig, ax = plt.subplots()\nax.scatter(data[\"imdb\"], data[\"rotten_tomatoes\"])\nax.set_title(\"Scatter Plot of Ratings\")\nax.set_xlabel(\"Average IMDb Rating\")\nax.set_ylabel(\"Average Rotten Tomatoes Rating\")\nfig.show()",
      "metadata": {
        "trusted": true
      },
      "outputs": [],
      "execution_count": null
    },
    {
      "cell_type": "markdown",
      "source": "Check movie length distribution",
      "metadata": {
        "scrolled": true
      }
    },
    {
      "cell_type": "code",
      "source": "fig, ax = plt.subplots()\nlength = data[\"film_length\"].value_counts(bins=7).sort_index()\nlength.plot.bar(\n    ax=ax,\n    title=\"Film Length Distribution\",\n    xlabel=\"Time Range (mins)\",\n    ylabel=\"Count\",\n)\nfig.show()\n",
      "metadata": {
        "trusted": true
      },
      "outputs": [],
      "execution_count": null
    },
    {
      "cell_type": "code",
      "source": " data[\"film_length\"].agg([\"min\", \"max\", \"mean\", \"std\"])",
      "metadata": {
        "trusted": true
      },
      "outputs": [],
      "execution_count": null
    },
    {
      "cell_type": "markdown",
      "source": "Check if the number of killed people have an effect on the ratings",
      "metadata": {}
    },
    {
      "cell_type": "code",
      "source": "fig, ax = plt.subplots()\nax.scatter(data[\"imdb\"], data[\"bond_kills\"])\nax.set_title(\"Scatter Plot of Kills vs Ratings\")\nax.set_xlabel(\"Average IMDb Rating\")\nax.set_ylabel(\"Kills by Bond\")\nfig.show()\n",
      "metadata": {
        "trusted": true
      },
      "outputs": [],
      "execution_count": null
    },
    {
      "cell_type": "markdown",
      "source": "![purple-divider](https://user-images.githubusercontent.com/7065401/52071927-c1cd7100-2562-11e9-908a-dde91ba14e59.png)\n",
      "metadata": {}
    }
  ]
}